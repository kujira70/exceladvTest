{
  "cells": [
    {
      "cell_type": "code",
      "execution_count": null,
      "id": "f9fa8c3f-2e7d-4c06-b41c-12bee7ddfae2",
      "metadata": {
        "ExecuteTime": {
          "end_time": "2023-09-29T00:17:07.049935+00:00",
          "start_time": "2023-09-29T00:17:06.730624+00:00"
        },
        "datalink": {
          "f99f6d70-8875-4f40-a9d6-85ac1a64b7c6": {
            "applied_filters": [],
            "dataframe_info": {
              "default_index_used": true,
              "orig_num_cols": 18,
              "orig_num_rows": 5,
              "orig_size_bytes": 760,
              "truncated_num_cols": 18,
              "truncated_num_rows": 5,
              "truncated_size_bytes": 760,
              "truncated_string_columns": []
            },
            "display_id": "f99f6d70-8875-4f40-a9d6-85ac1a64b7c6",
            "dx_settings": {
              "ALLOW_NOTEABLE_ATTRS": true,
              "COLUMN_SAMPLING_METHOD": "outer",
              "DB_LOCATION": ":memory:",
              "DEV_MODE": false,
              "DISPLAY_MAX_COLUMNS": 100,
              "DISPLAY_MAX_ROWS": 50000,
              "DISPLAY_MODE": "simple",
              "ENABLE_ASSIGNMENT": true,
              "ENABLE_DATALINK": true,
              "FLATTEN_COLUMN_VALUES": true,
              "FLATTEN_INDEX_VALUES": false,
              "GENERATE_DEX_METADATA": false,
              "HTML_TABLE_SCHEMA": false,
              "LOG_LEVEL": 30,
              "MAX_RENDER_SIZE_BYTES": 104857600,
              "MAX_STRING_LENGTH": 250,
              "NUM_PAST_SAMPLES_TRACKED": 3,
              "RANDOM_STATE": 12648430,
              "RESET_INDEX_VALUES": false,
              "ROW_SAMPLING_METHOD": "random",
              "SAMPLING_FACTOR": 0.1,
              "SAMPLING_METHOD": "random",
              "STRINGIFY_COLUMN_VALUES": true,
              "STRINGIFY_INDEX_VALUES": false
            },
            "sample_history": [],
            "sampling_time": "2023-09-29T00:17:06.883954",
            "user_variable_name": null,
            "variable_name": "unk_dataframe_382feaf3ed4e4cd4a068c17f1e06fd0f"
          }
        },
        "noteable": {
          "cell_type": "code"
        }
      },
      "outputs": [
        {
          "data": {
            "application/vnd.dataresource+json": {
              "data": [
                {
                  "Next Paragraph ID Choice 1": null,
                  "Next Paragraph ID Choice 2": null,
                  "Next Paragraph ID Choice 3": null,
                  "Next Paragraph ID Choice 4": null,
                  "Paragraph ID": "Intro",
                  "Result Text Character ID": "Naration",
                  "Result Text Choice 1": "You have been following a guy, spent two hours in an old van with your buddy.",
                  "Result Text Choice 2": null,
                  "Result Text Choice 3": null,
                  "Result Text Choice 4": null,
                  "Scene ID": 1,
                  "Scene Prompt Character ID": "Naration",
                  "Scene Prompt Text": "You work for a private detective company.  You don't like the assignment though.",
                  "User Choice Prompt 1": "Continue",
                  "User Choice Prompt 2": null,
                  "User Choice Prompt 3": null,
                  "User Choice Prompt 4": null,
                  "index": 1,
                  "level_0": 0
                },
                {
                  "Next Paragraph ID Choice 1": "[01 next]",
                  "Next Paragraph ID Choice 2": null,
                  "Next Paragraph ID Choice 3": null,
                  "Next Paragraph ID Choice 4": null,
                  "Paragraph ID": "Intro",
                  "Result Text Character ID": "Naration",
                  "Result Text Choice 1": "Your voice sounded idly in the old van.",
                  "Result Text Choice 2": null,
                  "Result Text Choice 3": null,
                  "Result Text Choice 4": null,
                  "Scene ID": 2,
                  "Scene Prompt Character ID": "You",
                  "Scene Prompt Text": "Do we really have to go?",
                  "User Choice Prompt 1": "Continue",
                  "User Choice Prompt 2": null,
                  "User Choice Prompt 3": null,
                  "User Choice Prompt 4": null,
                  "index": 2,
                  "level_0": 1
                },
                {
                  "Next Paragraph ID Choice 1": "[01 next]",
                  "Next Paragraph ID Choice 2": null,
                  "Next Paragraph ID Choice 3": null,
                  "Next Paragraph ID Choice 4": null,
                  "Paragraph ID": "Intro",
                  "Result Text Character ID": "Naration",
                  "Result Text Choice 1": "You heard Mike but said nothing.  You knew Mike was right.",
                  "Result Text Choice 2": null,
                  "Result Text Choice 3": null,
                  "Result Text Choice 4": null,
                  "Scene ID": 3,
                  "Scene Prompt Character ID": "Mike",
                  "Scene Prompt Text": "YOU have to go.  Not me. You know why. Just do it boy.  This is our buisiness.  She pays us, alright?",
                  "User Choice Prompt 1": "Continue",
                  "User Choice Prompt 2": null,
                  "User Choice Prompt 3": null,
                  "User Choice Prompt 4": null,
                  "index": 3,
                  "level_0": 2
                },
                {
                  "Next Paragraph ID Choice 1": "[02 previous]",
                  "Next Paragraph ID Choice 2": "[01 next]",
                  "Next Paragraph ID Choice 3": null,
                  "Next Paragraph ID Choice 4": null,
                  "Paragraph ID": "Intro",
                  "Result Text Character ID": "Mike",
                  "Result Text Choice 1": "Come on Yuta…well Erika.  Its been a while.",
                  "Result Text Choice 2": "Learn to trust me boy... Well... girl.",
                  "Result Text Choice 3": null,
                  "Result Text Choice 4": null,
                  "Scene ID": 4,
                  "Scene Prompt Character ID": "You",
                  "Scene Prompt Text": "You said:",
                  "User Choice Prompt 1": "I am not sure about me being boy anymore…",
                  "User Choice Prompt 2": "Okay then…you break in moment I call you okay?",
                  "User Choice Prompt 3": null,
                  "User Choice Prompt 4": null,
                  "index": 4,
                  "level_0": 3
                },
                {
                  "Next Paragraph ID Choice 1": "[01 next]",
                  "Next Paragraph ID Choice 2": null,
                  "Next Paragraph ID Choice 3": null,
                  "Next Paragraph ID Choice 4": null,
                  "Paragraph ID": "Intro",
                  "Result Text Character ID": "Mike",
                  "Result Text Choice 1": "Right… you are the cutest girl I know acutually.",
                  "Result Text Choice 2": null,
                  "Result Text Choice 3": null,
                  "Result Text Choice 4": null,
                  "Scene ID": 5,
                  "Scene Prompt Character ID": "You",
                  "Scene Prompt Text": "Slowly you opened the van door and said:",
                  "User Choice Prompt 1": "YOU don’t remember I am … a girl now.",
                  "User Choice Prompt 2": null,
                  "User Choice Prompt 3": null,
                  "User Choice Prompt 4": null,
                  "index": 5,
                  "level_0": 4
                }
              ],
              "datalink": {
                "display_id": "f99f6d70-8875-4f40-a9d6-85ac1a64b7c6"
              },
              "schema": {
                "fields": [
                  {
                    "name": "index",
                    "type": "integer"
                  },
                  {
                    "name": "index",
                    "type": "integer"
                  },
                  {
                    "name": "Paragraph ID",
                    "type": "string"
                  },
                  {
                    "name": "Scene ID",
                    "type": "integer"
                  },
                  {
                    "name": "Scene Prompt Character ID",
                    "type": "string"
                  },
                  {
                    "name": "Scene Prompt Text",
                    "type": "string"
                  },
                  {
                    "name": "User Choice Prompt 1",
                    "type": "string"
                  },
                  {
                    "name": "Result Text Character ID",
                    "type": "string"
                  },
                  {
                    "name": "Result Text Choice 1",
                    "type": "string"
                  },
                  {
                    "name": "Next Paragraph ID Choice 1",
                    "type": "string"
                  },
                  {
                    "name": "User Choice Prompt 2",
                    "type": "string"
                  },
                  {
                    "name": "Result Text Choice 2",
                    "type": "string"
                  },
                  {
                    "name": "Next Paragraph ID Choice 2",
                    "type": "string"
                  },
                  {
                    "name": "User Choice Prompt 3",
                    "type": "number"
                  },
                  {
                    "name": "Result Text Choice 3",
                    "type": "number"
                  },
                  {
                    "name": "Next Paragraph ID Choice 3",
                    "type": "number"
                  },
                  {
                    "name": "User Choice Prompt 4",
                    "type": "number"
                  },
                  {
                    "name": "Result Text Choice 4",
                    "type": "number"
                  },
                  {
                    "name": "Next Paragraph ID Choice 4",
                    "type": "number"
                  }
                ],
                "pandas_version": "1.4.0",
                "primaryKey": [
                  "index"
                ]
              }
            }
          },
          "metadata": {
            "application/vnd.dataresource+json": {
              "datalink": {
                "applied_filters": [],
                "dataframe_info": {
                  "default_index_used": true,
                  "orig_num_cols": 18,
                  "orig_num_rows": 5,
                  "orig_size_bytes": 760,
                  "truncated_num_cols": 18,
                  "truncated_num_rows": 5,
                  "truncated_size_bytes": 760,
                  "truncated_string_columns": []
                },
                "display_id": "f99f6d70-8875-4f40-a9d6-85ac1a64b7c6",
                "dx_settings": {
                  "ALLOW_NOTEABLE_ATTRS": true,
                  "COLUMN_SAMPLING_METHOD": "outer",
                  "DB_LOCATION": ":memory:",
                  "DEV_MODE": false,
                  "DISPLAY_MAX_COLUMNS": 100,
                  "DISPLAY_MAX_ROWS": 50000,
                  "DISPLAY_MODE": "simple",
                  "ENABLE_ASSIGNMENT": true,
                  "ENABLE_DATALINK": true,
                  "FLATTEN_COLUMN_VALUES": true,
                  "FLATTEN_INDEX_VALUES": false,
                  "GENERATE_DEX_METADATA": false,
                  "HTML_TABLE_SCHEMA": false,
                  "LOG_LEVEL": 30,
                  "MAX_RENDER_SIZE_BYTES": 104857600,
                  "MAX_STRING_LENGTH": 250,
                  "NUM_PAST_SAMPLES_TRACKED": 3,
                  "RANDOM_STATE": 12648430,
                  "RESET_INDEX_VALUES": false,
                  "ROW_SAMPLING_METHOD": "random",
                  "SAMPLING_FACTOR": 0.1,
                  "SAMPLING_METHOD": "random",
                  "STRINGIFY_COLUMN_VALUES": true,
                  "STRINGIFY_INDEX_VALUES": false
                },
                "sample_history": [],
                "sampling_time": "2023-09-29T00:17:06.883954",
                "user_variable_name": null,
                "variable_name": "unk_dataframe_382feaf3ed4e4cd4a068c17f1e06fd0f"
              },
              "display_id": "f99f6d70-8875-4f40-a9d6-85ac1a64b7c6"
            }
          },
          "output_type": "display_data"
        }
      ],
      "source": [
        "import pandas as pd\n",
        "\n",
        "# Load the Excel file\n",
        "data = pd.read_excel('GameStoryData-CirtainAdv.xlsx')\n",
        "\n",
        "# Display the first few rows of the data\n",
        "data.head()"
      ]
    },
    {
      "cell_type": "markdown",
      "id": "3272472f-cc37-42a5-8c92-e87b8f7c8519",
      "metadata": {
        "noteable": {
          "cell_type": "markdown"
        }
      },
      "source": [
        "## Game Scenario Parser in JavaScript"
      ]
    },
    {
      "cell_type": "markdown",
      "id": "c10b8aa0-caa1-4828-bc9e-389c4a7c2857",
      "metadata": {
        "noteable": {
          "cell_type": "markdown"
        }
      },
      "source": [
        "## Game Scenario Parser in Python"
      ]
    },
    {
      "cell_type": "code",
      "execution_count": null,
      "id": "eef6d9a0",
      "metadata": {},
      "outputs": [],
      "source": [
        "// Using the 'xlsx' library to read the Excel file\n",
        "const XLSX = require('xlsx');\n",
        "\n",
        "class GameParser {\n",
        "    constructor(filePath) {\n",
        "        this.filePath = filePath;\n",
        "        this.gameData = this.readExcel();\n",
        "        this.currentScene = null;\n",
        "    }\n",
        "\n",
        "    // Read the Excel file and convert it to JSON\n",
        "    readExcel() {\n",
        "        const workbook = XLSX.readFile(this.filePath);\n",
        "        const sheetName = workbook.SheetNames[0];\n",
        "        const data = XLSX.utils.sheet_to_json(workbook.Sheets[sheetName]);\n",
        "        return data;\n",
        "    }\n",
        "\n",
        "    // Get a scene by its Paragraph ID\n",
        "    getScene(paragraphId) {\n",
        "        return this.gameData.find(scene => scene['Paragraph ID'] === paragraphId);\n",
        "    }\n",
        "\n",
        "    // Start the game from the first scene\n",
        "    startGame() {\n",
        "        this.currentScene = this.gameData[0];\n",
        "        this.displayScene();\n",
        "    }\n",
        "\n",
        "    // Display the current scene and prompt choices to the player\n",
        "    displayScene() {\n",
        "        console.log(`[${this.currentScene['Scene Prompt Character ID']}] ${this.currentScene['Scene Prompt Text']}`);\n",
        "        console.log('Choices:');\n",
        "        for (let i = 1; i <= 3; i++) {\n",
        "            if (this.currentScene[`User Choice Prompt ${i}`]) {\n",
        "                console.log(`${i}. ${this.currentScene[`User Choice Prompt ${i}`]}`);\n",
        "            }\n",
        "        }\n",
        "    }\n",
        "\n",
        "    // Handle the player's choice and transition to the next scene\n",
        "    handleChoice(choiceNumber) {\n",
        "        console.log(`[${this.currentScene['Result Text Character ID']}] ${this.currentScene[`Result Text Choice ${choiceNumber}`]}`);\n",
        "        const nextParagraphId = this.currentScene[`Next Paragraph ID Choice ${choiceNumber}`];\n",
        "        this.currentScene = this.getScene(nextParagraphId);\n",
        "        if (this.currentScene) {\n",
        "            this.displayScene();\n",
        "        } else {\n",
        "            console.log('End of game. Thank you for playing!');\n",
        "        }\n",
        "    }\n",
        "}\n",
        "\n",
        "// Usage:\n",
        "const game = new GameParser('path_to_your_excel_file.xlsx');\n",
        "game.startGame();\n",
        "\n",
        "// When the player makes a choice, call:\n",
        "// game.handleChoice(choiceNumber);"
      ]
    },
    {
      "cell_type": "code",
      "execution_count": null,
      "id": "739fbea2-3ca5-427b-bd1a-f2c4a92b6e34",
      "metadata": {
        "noteable": {
          "cell_type": "code"
        }
      },
      "outputs": [],
      "source": [
        "import pandas as pd\n",
        "\n",
        "class GameParserPython:\n",
        "    def __init__(self, file_path):\n",
        "        self.file_path = file_path\n",
        "        self.game_data = self.read_excel()\n",
        "        self.current_scene = None\n",
        "\n",
        "    def read_excel(self):\n",
        "        return pd.read_excel(self.file_path).to_dict(orient='records')\n",
        "\n",
        "    def get_scene(self, paragraph_id):\n",
        "        return next((scene for scene in self.game_data if scene['Paragraph ID'] == paragraph_id), None)\n",
        "\n",
        "    def start_game(self):\n",
        "        self.current_scene = self.game_data[0]\n",
        "        self.display_scene()\n",
        "\n",
        "    def display_scene(self):\n",
        "        print(f\"[{self.current_scene['Scene Prompt Character ID']}] {self.current_scene['Scene Prompt Text']}\")\n",
        "        print('Choices:')\n",
        "        for i in range(1, 4):\n",
        "            choice = self.current_scene.get(f'User Choice Prompt {i}')\n",
        "            if choice:\n",
        "                print(f'{i}. {choice}')\n",
        "\n",
        "    def handle_choice(self, choice_number):\n",
        "        print(f\"[{self.current_scene['Result Text Character ID']}] {self.current_scene[f'Result Text Choice {choice_number}']}\")\n",
        "        next_paragraph_id = self.current_scene[f'Next Paragraph ID Choice {choice_number}']\n",
        "        self.current_scene = self.get_scene(next_paragraph_id)\n",
        "        if self.current_scene:\n",
        "            self.display_scene()\n",
        "        else:\n",
        "            print('End of game. Thank you for playing!')\n",
        "\n",
        "# Usage:\n",
        "# game_python = GameParserPython('path_to_your_excel_file.xlsx')\n",
        "# game_python.start_game()\n",
        "#\n",
        "# When the player makes a choice, call:\n",
        "# game_python.handle_choice(choice_number)"
      ]
    }
  ],
  "metadata": {
    "kernel_info": {
      "name": "python3"
    },
    "kernelspec": {
      "display_name": "Python 3.9",
      "language": "python",
      "name": "python3"
    },
    "noteable": {
      "last_delta_id": "77ff31ed-1def-490f-95d7-f67a86a3b46d"
    },
    "noteable-chatgpt": {
      "create_notebook": {
        "openai_conversation_id": "aec041ae-2a26-5992-9e7f-f32a8f4de3c5",
        "openai_ephemeral_user_id": "059b46e3-a3b8-5eed-b7db-fadfde60da74"
      }
    },
    "nteract": {
      "version": "noteable@2.9.0"
    },
    "selected_hardware_size": "small"
  },
  "nbformat": 4,
  "nbformat_minor": 5
}
